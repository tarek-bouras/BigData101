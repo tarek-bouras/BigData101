{
 "cells": [
  {
   "cell_type": "markdown",
   "metadata": {},
   "source": [
    "## BigData101 :\n",
    "## From Data to Big Data\n",
    "\n"
   ]
  },
  {
   "cell_type": "markdown",
   "metadata": {},
   "source": [
    "#### Import libraries"
   ]
  },
  {
   "cell_type": "code",
   "execution_count": 1,
   "metadata": {},
   "outputs": [],
   "source": [
    "import pandas as pd\n",
    "import requests\n",
    "import csv\n",
    "from pymongo import MongoClient\n",
    "import matplotlib.pyplot as plt"
   ]
  },
  {
   "cell_type": "markdown",
   "metadata": {},
   "source": [
    "#### Extract data"
   ]
  },
  {
   "cell_type": "code",
   "execution_count": 2,
   "metadata": {},
   "outputs": [],
   "source": [
    "url='http://api.coincap.io/v2/assets'"
   ]
  },
  {
   "cell_type": "code",
   "execution_count": 3,
   "metadata": {},
   "outputs": [],
   "source": [
    "header={\"Content-type\":\"application/json\",\n",
    "        \"Accept-Encoding\":\"deflate\"}"
   ]
  },
  {
   "cell_type": "code",
   "execution_count": 4,
   "metadata": {},
   "outputs": [
    {
     "name": "stdout",
     "output_type": "stream",
     "text": [
      "<Response [200]>\n"
     ]
    }
   ],
   "source": [
    "response = requests.get(url,headers=header)\n",
    "print(response)\n",
    "\n",
    "responseData= response.json()"
   ]
  },
  {
   "cell_type": "code",
   "execution_count": 5,
   "metadata": {},
   "outputs": [
    {
     "name": "stdout",
     "output_type": "stream",
     "text": [
      "                id rank symbol        name                         supply  \\\n",
      "0          bitcoin    1    BTC     Bitcoin      19573975.0000000000000000   \n",
      "1         ethereum    2    ETH    Ethereum     120197888.7699193400000000   \n",
      "2           tether    3   USDT      Tether   90912507793.9117400000000000   \n",
      "3     binance-coin    4    BNB         BNB     166801148.0000000000000000   \n",
      "4           solana    5    SOL      Solana     427720957.9796481000000000   \n",
      "..             ...  ...    ...         ...                            ...   \n",
      "95         zilliqa   96    ZIL     Zilliqa   17372203179.0000000000000000   \n",
      "96  paxos-standard   97   USDP  Pax Dollar     369946003.6606834500000000   \n",
      "97            dash   98   DASH        Dash      11584964.9603778000000000   \n",
      "98            holo   99    HOT        Holo  172565515342.4079300000000000   \n",
      "99        loopring  100    LRC    Loopring    1331682636.1413314000000000   \n",
      "\n",
      "                       maxSupply                   marketCapUsd  \\\n",
      "0      21000000.0000000000000000  836196039100.3397729032297750   \n",
      "1                           None  266326631349.4460312303033183   \n",
      "2                           None   90933055418.1701243903845843   \n",
      "3     166801148.0000000000000000   40527246093.8454926558814036   \n",
      "4                           None   31974035561.9909169233441858   \n",
      "..                           ...                            ...   \n",
      "95  21000000000.0000000000000000     392303211.7148595852835743   \n",
      "96                          None     370252167.7703854204580648   \n",
      "97     18900000.0000000000000000     369395393.6925868046870391   \n",
      "98                          None     368672743.9502062157628740   \n",
      "99   1374513896.0000000000000000     358472943.5288940410417507   \n",
      "\n",
      "                   volumeUsd24Hr                priceUsd    changePercent24Hr  \\\n",
      "0   11376655917.9606006361372096  42719.7868138862838490   3.1958852914316463   \n",
      "1    4067424589.5257075477231048   2215.7346861494691492   0.8318465537044988   \n",
      "2   15832642951.2524290823838747      1.0002260153718888  -0.0327421204137477   \n",
      "3     335625835.9579252448160265    242.9674290601734507   1.4000532207579345   \n",
      "4     789589167.1138119535474526     74.7544280107787273   4.5260607634873914   \n",
      "..                           ...                     ...                  ...   \n",
      "95     19839382.8887471697961773      0.0225822371332317  -2.3975504761170752   \n",
      "96       332765.5301135658285076      1.0008275913421754  -0.0746634655144663   \n",
      "97     32004931.2741028142452535     31.8857583908083193  -0.4747900382632003   \n",
      "98      5316920.1730463467342757      0.0021364218871811   3.3003919265206428   \n",
      "99     35175679.3124583848018533      0.2691879685144812  -7.5126005909457525   \n",
      "\n",
      "                  vwap24Hr                                           explorer  \n",
      "0   41530.2238767440524596                           https://blockchain.info/  \n",
      "1    2167.7371932637085457                              https://etherscan.io/  \n",
      "2       0.9999418551506562             https://www.omniexplorer.info/asset/31  \n",
      "3     236.9670565218041663  https://etherscan.io/token/0xB8c77482e45F1F44d...  \n",
      "4      70.4002296305689201                       https://explorer.solana.com/  \n",
      "..                     ...                                                ...  \n",
      "95      0.0221945320785651  https://etherscan.io/token/0x05f4a42e251f2d52b...  \n",
      "96                    None  https://etherscan.io/token/0x8e870d67f660d95d5...  \n",
      "97     30.8763512045226000                          https://explorer.dash.org  \n",
      "98      0.0020363533161927  https://etherscan.io/token/0x6c6ee5e31d828de24...  \n",
      "99      0.2716608527596893  https://etherscan.io/token/0xEF68e7C694F40c820...  \n",
      "\n",
      "[100 rows x 12 columns]\n"
     ]
    }
   ],
   "source": [
    "df= pd.json_normalize(responseData,'data')\n",
    "print(df)"
   ]
  },
  {
   "cell_type": "code",
   "execution_count": 6,
   "metadata": {},
   "outputs": [],
   "source": [
    "df.to_csv(r'./APIdata.csv')"
   ]
  },
  {
   "cell_type": "markdown",
   "metadata": {},
   "source": [
    "#### Mongodb Connection"
   ]
  },
  {
   "cell_type": "code",
   "execution_count": 7,
   "metadata": {},
   "outputs": [],
   "source": [
    "client = MongoClient(\"mongodb://localhost:27017/\")"
   ]
  },
  {
   "cell_type": "code",
   "execution_count": 8,
   "metadata": {},
   "outputs": [],
   "source": [
    "# Create a new database named 'itcDB'\n",
    "db = client.itcDB"
   ]
  },
  {
   "cell_type": "code",
   "execution_count": 9,
   "metadata": {},
   "outputs": [],
   "source": [
    "# Specify the collection name\n",
    "collection_name = 'data'"
   ]
  },
  {
   "cell_type": "code",
   "execution_count": 10,
   "metadata": {},
   "outputs": [],
   "source": [
    "# Select or create the collection\n",
    "collection = db[collection_name]"
   ]
  },
  {
   "cell_type": "code",
   "execution_count": 11,
   "metadata": {},
   "outputs": [
    {
     "name": "stdout",
     "output_type": "stream",
     "text": [
      "['admin', 'config', 'local', 'test', 'website']\n"
     ]
    }
   ],
   "source": [
    "print(client.list_database_names())"
   ]
  },
  {
   "cell_type": "markdown",
   "metadata": {},
   "source": [
    "#### Loading"
   ]
  },
  {
   "cell_type": "code",
   "execution_count": 12,
   "metadata": {},
   "outputs": [],
   "source": [
    "csv_file_path = '/home/tarek/Documents/codingStuffs/BigData101/DataITC.csv'"
   ]
  },
  {
   "cell_type": "code",
   "execution_count": 13,
   "metadata": {},
   "outputs": [],
   "source": [
    "with open(csv_file_path, 'r') as file:\n",
    "    # Create a CSV reader\n",
    "    csv_reader = csv.DictReader(file)\n",
    "\n",
    "    # Iterate through each row in the CSV file\n",
    "    for row in csv_reader:\n",
    "        # Insert each row as a document in the MongoDB collection\n",
    "        collection.insert_one(row)"
   ]
  },
  {
   "cell_type": "code",
   "execution_count": 14,
   "metadata": {},
   "outputs": [
    {
     "name": "stdout",
     "output_type": "stream",
     "text": [
      "Data from /home/tarek/Documents/codingStuffs/BigData101/DataITC.csv has been inserted into the data collection in the itcDB database.\n"
     ]
    }
   ],
   "source": [
    "print(f'Data from {csv_file_path} has been inserted into the {collection_name} collection in the itcDB database.')"
   ]
  },
  {
   "cell_type": "code",
   "execution_count": 15,
   "metadata": {},
   "outputs": [
    {
     "name": "stdout",
     "output_type": "stream",
     "text": [
      "['admin', 'config', 'itcDB', 'local', 'test', 'website']\n"
     ]
    }
   ],
   "source": [
    "print(client.list_database_names())"
   ]
  },
  {
   "cell_type": "code",
   "execution_count": 16,
   "metadata": {},
   "outputs": [
    {
     "name": "stdout",
     "output_type": "stream",
     "text": [
      "{'_id': ObjectId('6580eaa5aa8b4aa206d0e4b3'), 'n': '1', 'n commande': '1015', 'date creation': '2022-03-01', 'date expedition': '2022-03-01', 'dernier statut': 'Retourne au vendeur', 'date dernier statut': '2022-03-10', 'date livraison/echec': '2022-03-06', 'prenom': '', 'nom': 'Alfredo', 'Gender': 'H', 'telephone': '7483588267', 'adresse': 'centre ville', 'commune': 'Ghardaia', 'wilaya': 'Ghardaia', 'designation': 'Lenovo Ideapad 110 15.6\"- Intel Celeron N3060 - 500 Go - 2 Go - Noir - Freedos - Garantie 1 An', 'prix': '44900', 'type': 'pc', 'Brandt': 'Lenovo', 'frais livraison': '1050', 'freeshipping': 'oui', 'paiement': 'paye', 'id importation': '0', 'type colis': 'ecommerce', 'premiere tentative': 'Tentative echouee (Client absent (reporte))', 'date premiere tentative': '2022-03-03', 'deuxieme tentative': 'Tentative echouee (Client absent (reporte))', 'date deuxieme tentative': '2022-03-05', 'troisieme tentative': 'Echec livraison (Client absent (reporte))', 'date troisieme tentative': '2022-03-06'}\n"
     ]
    }
   ],
   "source": [
    "first_document = collection.find_one()\n",
    "print(first_document)"
   ]
  },
  {
   "cell_type": "code",
   "execution_count": 17,
   "metadata": {},
   "outputs": [],
   "source": [
    "df = pd.DataFrame(list(collection.find()))"
   ]
  },
  {
   "cell_type": "code",
   "execution_count": 18,
   "metadata": {},
   "outputs": [
    {
     "data": {
      "text/html": [
       "<div>\n",
       "<style scoped>\n",
       "    .dataframe tbody tr th:only-of-type {\n",
       "        vertical-align: middle;\n",
       "    }\n",
       "\n",
       "    .dataframe tbody tr th {\n",
       "        vertical-align: top;\n",
       "    }\n",
       "\n",
       "    .dataframe thead th {\n",
       "        text-align: right;\n",
       "    }\n",
       "</style>\n",
       "<table border=\"1\" class=\"dataframe\">\n",
       "  <thead>\n",
       "    <tr style=\"text-align: right;\">\n",
       "      <th></th>\n",
       "      <th>_id</th>\n",
       "      <th>n</th>\n",
       "      <th>n commande</th>\n",
       "      <th>date creation</th>\n",
       "      <th>date expedition</th>\n",
       "      <th>dernier statut</th>\n",
       "      <th>date dernier statut</th>\n",
       "      <th>date livraison/echec</th>\n",
       "      <th>prenom</th>\n",
       "      <th>nom</th>\n",
       "      <th>...</th>\n",
       "      <th>freeshipping</th>\n",
       "      <th>paiement</th>\n",
       "      <th>id importation</th>\n",
       "      <th>type colis</th>\n",
       "      <th>premiere tentative</th>\n",
       "      <th>date premiere tentative</th>\n",
       "      <th>deuxieme tentative</th>\n",
       "      <th>date deuxieme tentative</th>\n",
       "      <th>troisieme tentative</th>\n",
       "      <th>date troisieme tentative</th>\n",
       "    </tr>\n",
       "  </thead>\n",
       "  <tbody>\n",
       "    <tr>\n",
       "      <th>0</th>\n",
       "      <td>6580eaa5aa8b4aa206d0e4b3</td>\n",
       "      <td>1</td>\n",
       "      <td>1015</td>\n",
       "      <td>2022-03-01</td>\n",
       "      <td>2022-03-01</td>\n",
       "      <td>Retourne au vendeur</td>\n",
       "      <td>2022-03-10</td>\n",
       "      <td>2022-03-06</td>\n",
       "      <td></td>\n",
       "      <td>Alfredo</td>\n",
       "      <td>...</td>\n",
       "      <td>oui</td>\n",
       "      <td>paye</td>\n",
       "      <td>0</td>\n",
       "      <td>ecommerce</td>\n",
       "      <td>Tentative echouee (Client absent (reporte))</td>\n",
       "      <td>2022-03-03</td>\n",
       "      <td>Tentative echouee (Client absent (reporte))</td>\n",
       "      <td>2022-03-05</td>\n",
       "      <td>Echec livraison (Client absent (reporte))</td>\n",
       "      <td>2022-03-06</td>\n",
       "    </tr>\n",
       "    <tr>\n",
       "      <th>1</th>\n",
       "      <td>6580eaa5aa8b4aa206d0e4b4</td>\n",
       "      <td>2</td>\n",
       "      <td>994</td>\n",
       "      <td>2022-03-01</td>\n",
       "      <td>2022-03-01</td>\n",
       "      <td>Livre</td>\n",
       "      <td>2022-03-03</td>\n",
       "      <td>2022-03-03</td>\n",
       "      <td></td>\n",
       "      <td>Cara</td>\n",
       "      <td>...</td>\n",
       "      <td>oui</td>\n",
       "      <td>paye</td>\n",
       "      <td>0</td>\n",
       "      <td>ecommerce</td>\n",
       "      <td>Livre</td>\n",
       "      <td>2022-03-03</td>\n",
       "      <td></td>\n",
       "      <td></td>\n",
       "      <td></td>\n",
       "      <td></td>\n",
       "    </tr>\n",
       "    <tr>\n",
       "      <th>2</th>\n",
       "      <td>6580eaa5aa8b4aa206d0e4b5</td>\n",
       "      <td>3</td>\n",
       "      <td>985</td>\n",
       "      <td>2022-03-01</td>\n",
       "      <td>2022-03-01</td>\n",
       "      <td>Retourne au vendeur</td>\n",
       "      <td>2022-03-08</td>\n",
       "      <td>2022-03-03</td>\n",
       "      <td></td>\n",
       "      <td>Torin</td>\n",
       "      <td>...</td>\n",
       "      <td>oui</td>\n",
       "      <td>paye</td>\n",
       "      <td>0</td>\n",
       "      <td>ecommerce</td>\n",
       "      <td>Echec livraison (Annule par le client)</td>\n",
       "      <td>2022-03-03</td>\n",
       "      <td></td>\n",
       "      <td></td>\n",
       "      <td></td>\n",
       "      <td></td>\n",
       "    </tr>\n",
       "    <tr>\n",
       "      <th>3</th>\n",
       "      <td>6580eaa5aa8b4aa206d0e4b6</td>\n",
       "      <td>4</td>\n",
       "      <td>973</td>\n",
       "      <td>2022-03-01</td>\n",
       "      <td>2022-03-01</td>\n",
       "      <td>Livre</td>\n",
       "      <td>2022-03-02</td>\n",
       "      <td>2022-03-02</td>\n",
       "      <td></td>\n",
       "      <td>Vale</td>\n",
       "      <td>...</td>\n",
       "      <td>oui</td>\n",
       "      <td>paye</td>\n",
       "      <td>0</td>\n",
       "      <td>ecommerce</td>\n",
       "      <td>Livre</td>\n",
       "      <td>2022-03-02</td>\n",
       "      <td></td>\n",
       "      <td></td>\n",
       "      <td></td>\n",
       "      <td></td>\n",
       "    </tr>\n",
       "    <tr>\n",
       "      <th>4</th>\n",
       "      <td>6580eaa5aa8b4aa206d0e4b7</td>\n",
       "      <td>5</td>\n",
       "      <td>#1120</td>\n",
       "      <td>2022-03-01</td>\n",
       "      <td>2022-03-01</td>\n",
       "      <td>Retourne au vendeur</td>\n",
       "      <td>2022-03-10</td>\n",
       "      <td>2022-03-06</td>\n",
       "      <td></td>\n",
       "      <td>Gal</td>\n",
       "      <td>...</td>\n",
       "      <td>oui</td>\n",
       "      <td>paye</td>\n",
       "      <td>0</td>\n",
       "      <td>ecommerce</td>\n",
       "      <td>Tentative echouee (Client ne repond pas)</td>\n",
       "      <td>2022-03-03</td>\n",
       "      <td>Tentative echouee (Telephone injoignable)</td>\n",
       "      <td>2022-03-05</td>\n",
       "      <td>Echec livraison (Client ne repond pas)</td>\n",
       "      <td>2022-03-06</td>\n",
       "    </tr>\n",
       "  </tbody>\n",
       "</table>\n",
       "<p>5 rows × 30 columns</p>\n",
       "</div>"
      ],
      "text/plain": [
       "                        _id  n n commande date creation date expedition  \\\n",
       "0  6580eaa5aa8b4aa206d0e4b3  1       1015    2022-03-01      2022-03-01   \n",
       "1  6580eaa5aa8b4aa206d0e4b4  2        994    2022-03-01      2022-03-01   \n",
       "2  6580eaa5aa8b4aa206d0e4b5  3        985    2022-03-01      2022-03-01   \n",
       "3  6580eaa5aa8b4aa206d0e4b6  4        973    2022-03-01      2022-03-01   \n",
       "4  6580eaa5aa8b4aa206d0e4b7  5      #1120    2022-03-01      2022-03-01   \n",
       "\n",
       "        dernier statut date dernier statut date livraison/echec prenom  \\\n",
       "0  Retourne au vendeur          2022-03-10           2022-03-06          \n",
       "1                Livre          2022-03-03           2022-03-03          \n",
       "2  Retourne au vendeur          2022-03-08           2022-03-03          \n",
       "3                Livre          2022-03-02           2022-03-02          \n",
       "4  Retourne au vendeur          2022-03-10           2022-03-06          \n",
       "\n",
       "       nom  ... freeshipping paiement id importation type colis  \\\n",
       "0  Alfredo  ...          oui     paye              0  ecommerce   \n",
       "1     Cara  ...          oui     paye              0  ecommerce   \n",
       "2    Torin  ...          oui     paye              0  ecommerce   \n",
       "3     Vale  ...          oui     paye              0  ecommerce   \n",
       "4      Gal  ...          oui     paye              0  ecommerce   \n",
       "\n",
       "                            premiere tentative date premiere tentative  \\\n",
       "0  Tentative echouee (Client absent (reporte))              2022-03-03   \n",
       "1                                        Livre              2022-03-03   \n",
       "2       Echec livraison (Annule par le client)              2022-03-03   \n",
       "3                                        Livre              2022-03-02   \n",
       "4     Tentative echouee (Client ne repond pas)              2022-03-03   \n",
       "\n",
       "                            deuxieme tentative date deuxieme tentative  \\\n",
       "0  Tentative echouee (Client absent (reporte))              2022-03-05   \n",
       "1                                                                        \n",
       "2                                                                        \n",
       "3                                                                        \n",
       "4    Tentative echouee (Telephone injoignable)              2022-03-05   \n",
       "\n",
       "                         troisieme tentative date troisieme tentative  \n",
       "0  Echec livraison (Client absent (reporte))               2022-03-06  \n",
       "1                                                                      \n",
       "2                                                                      \n",
       "3                                                                      \n",
       "4     Echec livraison (Client ne repond pas)               2022-03-06  \n",
       "\n",
       "[5 rows x 30 columns]"
      ]
     },
     "execution_count": 18,
     "metadata": {},
     "output_type": "execute_result"
    }
   ],
   "source": [
    "df.head()"
   ]
  },
  {
   "cell_type": "markdown",
   "metadata": {},
   "source": [
    "#### Transformation"
   ]
  },
  {
   "cell_type": "code",
   "execution_count": 19,
   "metadata": {},
   "outputs": [
    {
     "data": {
      "text/plain": [
       "Index(['_id', 'n', 'n commande', 'date creation', 'date expedition',\n",
       "       'dernier statut', 'date dernier statut', 'date livraison/echec',\n",
       "       'prenom', 'nom', 'Gender', 'telephone', 'adresse', 'commune', 'wilaya',\n",
       "       'designation', 'prix', 'type', 'Brandt', 'frais livraison',\n",
       "       'freeshipping', 'paiement', 'id importation', 'type colis',\n",
       "       'premiere tentative', 'date premiere tentative', 'deuxieme tentative',\n",
       "       'date deuxieme tentative', 'troisieme tentative',\n",
       "       'date troisieme tentative'],\n",
       "      dtype='object')"
      ]
     },
     "execution_count": 19,
     "metadata": {},
     "output_type": "execute_result"
    }
   ],
   "source": [
    "df.columns"
   ]
  },
  {
   "cell_type": "code",
   "execution_count": 20,
   "metadata": {},
   "outputs": [],
   "source": [
    "columns_to_delete = ['premiere tentative', 'date premiere tentative', 'deuxieme tentative',\n",
    "                      'date deuxieme tentative', 'troisieme tentative', 'date troisieme tentative']\n",
    "\n",
    "# Drop specified columns\n",
    "df = df.drop(columns=columns_to_delete, errors='ignore')"
   ]
  },
  {
   "cell_type": "code",
   "execution_count": 21,
   "metadata": {},
   "outputs": [
    {
     "data": {
      "text/plain": [
       "Index(['_id', 'n', 'n commande', 'date creation', 'date expedition',\n",
       "       'dernier statut', 'date dernier statut', 'date livraison/echec',\n",
       "       'prenom', 'nom', 'Gender', 'telephone', 'adresse', 'commune', 'wilaya',\n",
       "       'designation', 'prix', 'type', 'Brandt', 'frais livraison',\n",
       "       'freeshipping', 'paiement', 'id importation', 'type colis'],\n",
       "      dtype='object')"
      ]
     },
     "execution_count": 21,
     "metadata": {},
     "output_type": "execute_result"
    }
   ],
   "source": [
    "df.columns"
   ]
  },
  {
   "cell_type": "code",
   "execution_count": 22,
   "metadata": {},
   "outputs": [],
   "source": [
    "df['full_name'] = df['prenom'] + ' ' + df['nom']\n",
    "\n",
    "# Drop the original 'prenom' and 'nom' columns\n",
    "df = df.drop(columns=['prenom', 'nom'], errors='ignore')"
   ]
  },
  {
   "cell_type": "code",
   "execution_count": 23,
   "metadata": {},
   "outputs": [],
   "source": [
    "# Drop rows where 'telephone' column is empty\n",
    "df = df.dropna(subset=['telephone'])"
   ]
  },
  {
   "cell_type": "code",
   "execution_count": 24,
   "metadata": {},
   "outputs": [],
   "source": [
    "df['Gender'] = df['Gender'].apply(lambda x: 'Undefined' if x not in ['H', 'F'] else x)"
   ]
  },
  {
   "cell_type": "code",
   "execution_count": 25,
   "metadata": {},
   "outputs": [],
   "source": [
    "pipeline=[\n",
    "    {\"$match\": {\"dernier statut\": \"Livre\"}}, \n",
    "    {\"$group\" : {\"_id\" : \"$type\", \"nbrventes\" : {\"$sum\" : 1}}} \n",
    "]"
   ]
  },
  {
   "cell_type": "code",
   "execution_count": 26,
   "metadata": {},
   "outputs": [
    {
     "name": "stdout",
     "output_type": "stream",
     "text": [
      "[{'_id': 'Mode Femme', 'nbrventes': 51}, {'_id': 'tv', 'nbrventes': 35}, {'_id': 'Parfums', 'nbrventes': 28}, {'_id': 'imprimantes', 'nbrventes': 20}, {'_id': 'audio', 'nbrventes': 23}, {'_id': 'Mode Homme', 'nbrventes': 43}, {'_id': 'pc', 'nbrventes': 28}, {'_id': 'Electronique Embarquee', 'nbrventes': 18}, {'_id': 'stockage', 'nbrventes': 11}, {'_id': 'sport', 'nbrventes': 21}]\n"
     ]
    }
   ],
   "source": [
    "result =list(collection.aggregate(pipeline))\n",
    "print (result)"
   ]
  },
  {
   "cell_type": "code",
   "execution_count": 27,
   "metadata": {},
   "outputs": [
    {
     "data": {
      "image/png": "[encoded data removed]",
      "text/plain": [
       "<Figure size 640x480 with 1 Axes>"
      ]
     },
     "metadata": {},
     "output_type": "display_data"
    }
   ],
   "source": [
    "type_labels = [entry['_id'] for entry in result]\n",
    "nbrventes_values = [entry['nbrventes'] for entry in result]\n",
    "\n",
    "# Plot the bar chart\n",
    "plt.bar(type_labels, nbrventes_values, color='green')\n",
    "plt.xlabel('Type')\n",
    "plt.ylabel('Number of Sales')\n",
    "plt.title('Number of Sales by Type')\n",
    "plt.show()"
   ]
  }
 ],
 "metadata": {
  "kernelspec": {
   "display_name": "env310",
   "language": "python",
   "name": "python3"
  },
  "language_info": {
   "codemirror_mode": {
    "name": "ipython",
    "version": 3
   },
   "file_extension": ".py",
   "mimetype": "text/x-python",
   "name": "python",
   "nbconvert_exporter": "python",
   "pygments_lexer": "ipython3",
   "version": "3.10.12"
  }
 },
 "nbformat": 4,
 "nbformat_minor": 2
}
