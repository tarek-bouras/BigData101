{
 "cells": [
  {
   "cell_type": "code",
   "execution_count": 3,
   "metadata": {},
   "outputs": [],
   "source": [
    "from pymongo import MongoClient\n",
    "\n",
    "client = MongoClient(\"mongodb://localhost:27017/\")\n",
    "\n",
    "# Accessing a non-existent database implicitly creates it\n",
    "mydb = client[\"myNewDatabase\"]\n",
    "\n",
    "# Creating a collection within the non-existent database implicitly creates it\n",
    " mycol = mydb[\"users\"]"
   ]
  },
  {
   "cell_type": "code",
   "execution_count": 4,
   "metadata": {},
   "outputs": [],
   "source": [
    "# mycol.insert_one({\"name\": \"John\", \"age\": 30})"
   ]
  },
  {
   "cell_type": "code",
   "execution_count": 5,
   "metadata": {},
   "outputs": [
    {
     "name": "stdout",
     "output_type": "stream",
     "text": [
      "['admin', 'config', 'local', 'myNewDatabase', 'py', 'test', 'website']\n"
     ]
    }
   ],
   "source": [
    "print(client.list_database_names())"
   ]
  },
  {
   "cell_type": "code",
   "execution_count": 6,
   "metadata": {},
   "outputs": [],
   "source": [
    "db = client.py"
   ]
  },
  {
   "cell_type": "code",
   "execution_count": 7,
   "metadata": {},
   "outputs": [],
   "source": [
    "collection = db.test"
   ]
  },
  {
   "cell_type": "code",
   "execution_count": 8,
   "metadata": {},
   "outputs": [
    {
     "name": "stdout",
     "output_type": "stream",
     "text": [
      "{'_id': ObjectId('6580d5bc18a25195e8c1bf92'), 'n': '1', 'n commande': '1015', 'date creation': '2022-03-01', 'date expedition': '2022-03-01', 'dernier statut': 'Retourne au vendeur', 'date dernier statut': '2022-03-10', 'date livraison/echec': '2022-03-06', 'nom': 'Leayeb saad', 'Gender': 'H', 'telephone': '0560306902', 'adresse': 'centre ville', 'commune': 'Ghardaia', 'wilaya': 'Ghardaia', 'designation': 'Lenovo Ideapad 110 15.6\"- Intel Celeron N3060 - 500 Go - 2 Go - Noir - Freedos - Garantie 1 An', 'prix': '44900', 'type': 'pc', 'Brandt': 'Lenovo', 'frais livraison': '1050', 'freeshipping': 'oui', 'paiement': 'paye', 'id importation': '0', 'type colis': 'ecommerce', 'premiere tentative': 'Tentative echouee (Client absent (reporte))', 'date premiere tentative': '2022-03-03', 'deuxieme tentative': 'Tentative echouee (Client absent (reporte))', 'date deuxieme tentative': '2022-03-05', 'troisieme tentative': 'Echec livraison (Client absent (reporte))', 'date troisieme tentative': '2022-03-06'}\n"
     ]
    }
   ],
   "source": [
    "print(collection.find_one())"
   ]
  },
  {
   "cell_type": "code",
   "execution_count": 9,
   "metadata": {},
   "outputs": [],
   "source": [
    "pipeline = [\n",
    "    {\"$match\": {\"dernier statut\": \"Livre\"}},\n",
    "    {\"$group\": {\"_id\": \"$Gender\", \"nbrventes\": {\"$sum\": 1}}}\n",
    "]"
   ]
  },
  {
   "cell_type": "code",
   "execution_count": 15,
   "metadata": {},
   "outputs": [
    {
     "name": "stdout",
     "output_type": "stream",
     "text": [
      "[{'_id': 'H', 'nbrventes': 204}, {'_id': 'F', 'nbrventes': 71}, {'_id': None, 'nbrventes': 3}]\n"
     ]
    }
   ],
   "source": [
    "result =list(collection.aggregate(pipeline))\n",
    "print (result)"
   ]
  },
  {
   "cell_type": "code",
   "execution_count": 12,
   "metadata": {},
   "outputs": [],
   "source": [
    "import matplotlib.pyplot as plt"
   ]
  },
  {
   "cell_type": "code",
   "execution_count": 16,
   "metadata": {},
   "outputs": [],
   "source": [
    "collection_name = 'csvData'"
   ]
  },
  {
   "cell_type": "code",
   "execution_count": 17,
   "metadata": {},
   "outputs": [],
   "source": [
    "collection = db[collection_name]"
   ]
  },
  {
   "cell_type": "code",
   "execution_count": 28,
   "metadata": {},
   "outputs": [],
   "source": [
    "import csv"
   ]
  },
  {
   "cell_type": "code",
   "execution_count": 29,
   "metadata": {},
   "outputs": [],
   "source": [
    "csv_file_path = '/home/tarek/Documents/codingStuffs/BigData101/data.csv'"
   ]
  },
  {
   "cell_type": "code",
   "execution_count": 30,
   "metadata": {},
   "outputs": [],
   "source": [
    "with open(csv_file_path, 'r') as file:\n",
    "    # Create a CSV reader\n",
    "    csv_reader = csv.DictReader(file)\n",
    "\n",
    "    # Iterate through each row in the CSV file\n",
    "    for row in csv_reader:\n",
    "        # Insert each row as a document in the MongoDB collection\n",
    "        collection.insert_one(row)"
   ]
  },
  {
   "cell_type": "code",
   "execution_count": 31,
   "metadata": {},
   "outputs": [
    {
     "name": "stdout",
     "output_type": "stream",
     "text": [
      "Data from /home/tarek/Documents/codingStuffs/BigData101/data.csv has been inserted into the csvData collection.\n"
     ]
    }
   ],
   "source": [
    "print(f'Data from {csv_file_path} has been inserted into the {collection_name} collection.')"
   ]
  },
  {
   "cell_type": "code",
   "execution_count": 35,
   "metadata": {},
   "outputs": [
    {
     "name": "stdout",
     "output_type": "stream",
     "text": [
      "{'_id': ObjectId('6580d93335e4496978f7cdcc'), '': '0', 'id': 'bitcoin', 'rank': '1', 'symbol': 'BTC', 'name': 'Bitcoin', 'supply': '19573893.0000000000000000', 'maxSupply': '21000000.0000000000000000', 'marketCapUsd': '831638172622.1165321366940174', 'volumeUsd24Hr': '10882783226.7198485671285232', 'priceUsd': '42487.1114101888945718', 'changePercent24Hr': '1.8286579533964074', 'vwap24Hr': '41453.0923879390666873', 'explorer': 'https://blockchain.info/'}\n"
     ]
    }
   ],
   "source": [
    "print(collection.find_one())"
   ]
  }
 ],
 "metadata": {
  "kernelspec": {
   "display_name": "base",
   "language": "python",
   "name": "python3"
  },
  "language_info": {
   "codemirror_mode": {
    "name": "ipython",
    "version": 3
   },
   "file_extension": ".py",
   "mimetype": "text/x-python",
   "name": "python",
   "nbconvert_exporter": "python",
   "pygments_lexer": "ipython3",
   "version": "3.10.12"
  }
 },
 "nbformat": 4,
 "nbformat_minor": 2
}
